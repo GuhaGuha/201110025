{
 "cells": [
  {
   "cell_type": "code",
   "execution_count": 120,
   "metadata": {
    "collapsed": false,
    "scrolled": true
   },
   "outputs": [
    {
     "name": "stdout",
     "output_type": "stream",
     "text": [
      "3 [u'Sheet1', u'Sheet2', u'Sheet3']\n",
      "Sheet1 http://yesgame.kr\n"
     ]
    }
   ],
   "source": [
    "import xlrd\n",
    "wb = xlrd.open_workbook(\"example.xlsx\")\n",
    "sh = wb.sheet_by_index(0)\n",
    "\n",
    "print wb.nsheets, wb.sheet_names()\n",
    "print sh.name, sh.cell_value(2,1)"
   ]
  },
  {
   "cell_type": "code",
   "execution_count": 121,
   "metadata": {
    "collapsed": true
   },
   "outputs": [],
   "source": [
    "date=[]\n",
    "time=[]\n",
    "waypoint=[]"
   ]
  },
  {
   "cell_type": "code",
   "execution_count": 122,
   "metadata": {
    "collapsed": false
   },
   "outputs": [],
   "source": [
    "for i in range(1,sh.nrows):\n",
    "    row = str(sh.cell_value(i,0)).split('.')\n",
    "    date.append(row[0])\n",
    "    time1 = \"0.\"+row[1]\n",
    "    time.append(time1)\n",
    "    row = sh.cell_value(i,1).split('/')\n",
    "    waypoint.append(row[2])"
   ]
  },
  {
   "cell_type": "code",
   "execution_count": 123,
   "metadata": {
    "collapsed": false,
    "scrolled": false
   },
   "outputs": [
    {
     "name": "stdout",
     "output_type": "stream",
     "text": [
      "42004 0.8205147 domafishing.co.kr\n"
     ]
    }
   ],
   "source": [
    "print date[0], time[0], waypoint[0]"
   ]
  },
  {
   "cell_type": "code",
   "execution_count": 130,
   "metadata": {
    "collapsed": false,
    "scrolled": true
   },
   "outputs": [],
   "source": [
    "import csv\n",
    "with open('./file.csv', 'wb') as csvfile:\n",
    "    writer = csv.writer(csvfile, delimiter=',')\n",
    "    writer.writerow([\"date\"]+[\"time\"]+[\"waypoint\"])\n",
    "    for i in range(0, len(date)):\n",
    "        writer.writerow([date[i]]+[time[i]]+[waypoint[i]])"
   ]
  }
 ],
 "metadata": {
  "kernelspec": {
   "display_name": "Python [default]",
   "language": "python",
   "name": "python2"
  },
  "language_info": {
   "codemirror_mode": {
    "name": "ipython",
    "version": 2
   },
   "file_extension": ".py",
   "mimetype": "text/x-python",
   "name": "python",
   "nbconvert_exporter": "python",
   "pygments_lexer": "ipython2",
   "version": "2.7.12"
  }
 },
 "nbformat": 4,
 "nbformat_minor": 1
}
