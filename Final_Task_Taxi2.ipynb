{
 "cells": [
  {
   "cell_type": "code",
   "execution_count": 11,
   "metadata": {
    "collapsed": false
   },
   "outputs": [],
   "source": [
    "import csv"
   ]
  },
  {
   "cell_type": "code",
   "execution_count": 12,
   "metadata": {
    "collapsed": false
   },
   "outputs": [],
   "source": [
    "f = open(\"taxi.csv\", 'r')\n",
    "data = f.readlines()\n",
    "f.close()"
   ]
  },
  {
   "cell_type": "code",
   "execution_count": 13,
   "metadata": {
    "collapsed": true
   },
   "outputs": [],
   "source": [
    "newdata = dict()\n",
    "x = []\n",
    "y = []\n",
    "emp = []"
   ]
  },
  {
   "cell_type": "code",
   "execution_count": 14,
   "metadata": {
    "collapsed": false
   },
   "outputs": [],
   "source": [
    "for line in data:\n",
    "    newline = line.strip('\\n').split(',')\n",
    "    if newline != '':\n",
    "        x.append(newline[1])\n",
    "        y.append(newline[2])\n",
    "        emp.append(newline[7])"
   ]
  },
  {
   "cell_type": "code",
   "execution_count": 15,
   "metadata": {
    "collapsed": false,
    "scrolled": false
   },
   "outputs": [],
   "source": [
    "x_av = []\n",
    "for line in x:\n",
    "    xsum = 0\n",
    "    avline = line.split('^')\n",
    "    for av in avline:\n",
    "        if av == '':\n",
    "            x_av.append(xsum / (len(avline)-1))\n",
    "            break\n",
    "        xsum +=float(av)"
   ]
  },
  {
   "cell_type": "code",
   "execution_count": 16,
   "metadata": {
    "collapsed": true
   },
   "outputs": [],
   "source": [
    "y_av = []\n",
    "for line in y:\n",
    "    ysum = 0\n",
    "    avline = line.split('^')\n",
    "    for av in avline:\n",
    "        if av == '':\n",
    "            y_av.append(ysum / (len(avline)-1))\n",
    "            break\n",
    "        ysum +=float(av)"
   ]
  },
  {
   "cell_type": "code",
   "execution_count": 17,
   "metadata": {
    "collapsed": false,
    "scrolled": true
   },
   "outputs": [],
   "source": [
    "f = open(\"av.csv\",'ab')\n",
    "writer = csv.writer(f, delimiter=',')"
   ]
  },
  {
   "cell_type": "code",
   "execution_count": 18,
   "metadata": {
    "collapsed": false
   },
   "outputs": [],
   "source": [
    "for i in range(0, len(x)):\n",
    "    s =[]\n",
    "    if int(emp[i]) != 0:\n",
    "        s.append(x_av[i])\n",
    "        s.append(y_av[i])\n",
    "        if int(emp[i]) <= 5:\n",
    "            s.append(\"1\")\n",
    "        elif int(emp[i]) <= 50:\n",
    "            s.append(\"2\")\n",
    "        elif int(emp[i]) <= 150:\n",
    "            s.append(\"3\")\n",
    "        elif int(emp[i]) <= 300:\n",
    "            s.append(\"4\")\n",
    "        else:\n",
    "            s.append(\"5\")\n",
    "        writer.writerow(s)\n",
    "f.close()"
   ]
  }
 ],
 "metadata": {
  "kernelspec": {
   "display_name": "Python [conda root]",
   "language": "python",
   "name": "conda-root-py"
  },
  "language_info": {
   "codemirror_mode": {
    "name": "ipython",
    "version": 2
   },
   "file_extension": ".py",
   "mimetype": "text/x-python",
   "name": "python",
   "nbconvert_exporter": "python",
   "pygments_lexer": "ipython2",
   "version": "2.7.12"
  }
 },
 "nbformat": 4,
 "nbformat_minor": 1
}
